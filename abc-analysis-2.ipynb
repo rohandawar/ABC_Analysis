{
 "cells": [
  {
   "cell_type": "code",
   "execution_count": 1,
   "id": "814ff45b",
   "metadata": {
    "execution": {
     "iopub.execute_input": "2023-06-05T18:27:26.761171Z",
     "iopub.status.busy": "2023-06-05T18:27:26.760635Z",
     "iopub.status.idle": "2023-06-05T18:27:28.369998Z",
     "shell.execute_reply": "2023-06-05T18:27:28.368946Z"
    },
    "papermill": {
     "duration": 1.618881,
     "end_time": "2023-06-05T18:27:28.372739",
     "exception": false,
     "start_time": "2023-06-05T18:27:26.753858",
     "status": "completed"
    },
    "tags": []
   },
   "outputs": [],
   "source": [
    "# Import Libs\n",
    "\n",
    "# General\n",
    "import pandas as pd\n",
    "import numpy as np\n",
    "\n",
    "# Plotting\n",
    "import matplotlib.pyplot as plt\n",
    "import seaborn as sns"
   ]
  },
  {
   "cell_type": "code",
   "execution_count": 2,
   "id": "403da47c",
   "metadata": {
    "execution": {
     "iopub.execute_input": "2023-06-05T18:27:28.383288Z",
     "iopub.status.busy": "2023-06-05T18:27:28.382464Z",
     "iopub.status.idle": "2023-06-05T18:27:28.965650Z",
     "shell.execute_reply": "2023-06-05T18:27:28.964594Z"
    },
    "papermill": {
     "duration": 0.591465,
     "end_time": "2023-06-05T18:27:28.968622",
     "exception": false,
     "start_time": "2023-06-05T18:27:28.377157",
     "status": "completed"
    },
    "tags": []
   },
   "outputs": [
    {
     "data": {
      "text/html": [
       "<div>\n",
       "<style scoped>\n",
       "    .dataframe tbody tr th:only-of-type {\n",
       "        vertical-align: middle;\n",
       "    }\n",
       "\n",
       "    .dataframe tbody tr th {\n",
       "        vertical-align: top;\n",
       "    }\n",
       "\n",
       "    .dataframe thead th {\n",
       "        text-align: right;\n",
       "    }\n",
       "</style>\n",
       "<table border=\"1\" class=\"dataframe\">\n",
       "  <thead>\n",
       "    <tr style=\"text-align: right;\">\n",
       "      <th></th>\n",
       "      <th>Order</th>\n",
       "      <th>File_Type</th>\n",
       "      <th>SKU_number</th>\n",
       "      <th>SoldFlag</th>\n",
       "      <th>SoldCount</th>\n",
       "      <th>MarketingType</th>\n",
       "      <th>ReleaseNumber</th>\n",
       "      <th>New_Release_Flag</th>\n",
       "      <th>StrengthFactor</th>\n",
       "      <th>PriceReg</th>\n",
       "      <th>ReleaseYear</th>\n",
       "      <th>ItemCount</th>\n",
       "      <th>LowUserPrice</th>\n",
       "      <th>LowNetPrice</th>\n",
       "    </tr>\n",
       "  </thead>\n",
       "  <tbody>\n",
       "    <tr>\n",
       "      <th>0</th>\n",
       "      <td>2</td>\n",
       "      <td>Historical</td>\n",
       "      <td>1737127</td>\n",
       "      <td>0.0</td>\n",
       "      <td>0.0</td>\n",
       "      <td>D</td>\n",
       "      <td>15</td>\n",
       "      <td>1</td>\n",
       "      <td>682743.0</td>\n",
       "      <td>44.99</td>\n",
       "      <td>2015</td>\n",
       "      <td>8</td>\n",
       "      <td>28.97</td>\n",
       "      <td>31.84</td>\n",
       "    </tr>\n",
       "    <tr>\n",
       "      <th>1</th>\n",
       "      <td>3</td>\n",
       "      <td>Historical</td>\n",
       "      <td>3255963</td>\n",
       "      <td>0.0</td>\n",
       "      <td>0.0</td>\n",
       "      <td>D</td>\n",
       "      <td>7</td>\n",
       "      <td>1</td>\n",
       "      <td>1016014.0</td>\n",
       "      <td>24.81</td>\n",
       "      <td>2005</td>\n",
       "      <td>39</td>\n",
       "      <td>0.00</td>\n",
       "      <td>15.54</td>\n",
       "    </tr>\n",
       "    <tr>\n",
       "      <th>2</th>\n",
       "      <td>4</td>\n",
       "      <td>Historical</td>\n",
       "      <td>612701</td>\n",
       "      <td>0.0</td>\n",
       "      <td>0.0</td>\n",
       "      <td>D</td>\n",
       "      <td>0</td>\n",
       "      <td>0</td>\n",
       "      <td>340464.0</td>\n",
       "      <td>46.00</td>\n",
       "      <td>2013</td>\n",
       "      <td>34</td>\n",
       "      <td>30.19</td>\n",
       "      <td>27.97</td>\n",
       "    </tr>\n",
       "    <tr>\n",
       "      <th>3</th>\n",
       "      <td>6</td>\n",
       "      <td>Historical</td>\n",
       "      <td>115883</td>\n",
       "      <td>1.0</td>\n",
       "      <td>1.0</td>\n",
       "      <td>D</td>\n",
       "      <td>4</td>\n",
       "      <td>1</td>\n",
       "      <td>334011.0</td>\n",
       "      <td>100.00</td>\n",
       "      <td>2006</td>\n",
       "      <td>20</td>\n",
       "      <td>133.93</td>\n",
       "      <td>83.15</td>\n",
       "    </tr>\n",
       "    <tr>\n",
       "      <th>4</th>\n",
       "      <td>7</td>\n",
       "      <td>Historical</td>\n",
       "      <td>863939</td>\n",
       "      <td>1.0</td>\n",
       "      <td>1.0</td>\n",
       "      <td>D</td>\n",
       "      <td>2</td>\n",
       "      <td>1</td>\n",
       "      <td>1287938.0</td>\n",
       "      <td>121.95</td>\n",
       "      <td>2010</td>\n",
       "      <td>28</td>\n",
       "      <td>4.00</td>\n",
       "      <td>23.99</td>\n",
       "    </tr>\n",
       "  </tbody>\n",
       "</table>\n",
       "</div>"
      ],
      "text/plain": [
       "   Order   File_Type  SKU_number  SoldFlag  SoldCount MarketingType  \\\n",
       "0      2  Historical     1737127       0.0        0.0             D   \n",
       "1      3  Historical     3255963       0.0        0.0             D   \n",
       "2      4  Historical      612701       0.0        0.0             D   \n",
       "3      6  Historical      115883       1.0        1.0             D   \n",
       "4      7  Historical      863939       1.0        1.0             D   \n",
       "\n",
       "   ReleaseNumber  New_Release_Flag  StrengthFactor  PriceReg  ReleaseYear  \\\n",
       "0             15                 1        682743.0     44.99         2015   \n",
       "1              7                 1       1016014.0     24.81         2005   \n",
       "2              0                 0        340464.0     46.00         2013   \n",
       "3              4                 1        334011.0    100.00         2006   \n",
       "4              2                 1       1287938.0    121.95         2010   \n",
       "\n",
       "   ItemCount  LowUserPrice  LowNetPrice  \n",
       "0          8         28.97        31.84  \n",
       "1         39          0.00        15.54  \n",
       "2         34         30.19        27.97  \n",
       "3         20        133.93        83.15  \n",
       "4         28          4.00        23.99  "
      ]
     },
     "execution_count": 2,
     "metadata": {},
     "output_type": "execute_result"
    }
   ],
   "source": [
    "# Read the data\n",
    "data = pd.read_csv('/kaggle/input/sales-analysis/SalesKaggle3.csv')\n",
    "data.head()"
   ]
  },
  {
   "cell_type": "code",
   "execution_count": 3,
   "id": "e3727a27",
   "metadata": {
    "execution": {
     "iopub.execute_input": "2023-06-05T18:27:28.979444Z",
     "iopub.status.busy": "2023-06-05T18:27:28.978492Z",
     "iopub.status.idle": "2023-06-05T18:27:28.984714Z",
     "shell.execute_reply": "2023-06-05T18:27:28.983940Z"
    },
    "papermill": {
     "duration": 0.013984,
     "end_time": "2023-06-05T18:27:28.986922",
     "exception": false,
     "start_time": "2023-06-05T18:27:28.972938",
     "status": "completed"
    },
    "tags": []
   },
   "outputs": [],
   "source": [
    "# Function Defination\n",
    "def ABC_segmentation(perc):\n",
    "    \"\"\"\n",
    "    Create the 3 classes A, B, C based on\n",
    "    quantity percentage (A-60%, B-25%, C-15%)\n",
    "    \"\"\"\n",
    "    if perc > 0 and perc <0.6 :\n",
    "        return 'A'\n",
    "    elif perc >=0.6 and perc <0.85:\n",
    "        return 'B'\n",
    "    elif perc >=0.85:\n",
    "        return 'C'"
   ]
  },
  {
   "cell_type": "code",
   "execution_count": 4,
   "id": "731a90c8",
   "metadata": {
    "execution": {
     "iopub.execute_input": "2023-06-05T18:27:28.997577Z",
     "iopub.status.busy": "2023-06-05T18:27:28.996878Z",
     "iopub.status.idle": "2023-06-05T18:27:29.057393Z",
     "shell.execute_reply": "2023-06-05T18:27:29.056325Z"
    },
    "papermill": {
     "duration": 0.068778,
     "end_time": "2023-06-05T18:27:29.060028",
     "exception": false,
     "start_time": "2023-06-05T18:27:28.991250",
     "status": "completed"
    },
    "tags": []
   },
   "outputs": [
    {
     "data": {
      "text/html": [
       "<div>\n",
       "<style scoped>\n",
       "    .dataframe tbody tr th:only-of-type {\n",
       "        vertical-align: middle;\n",
       "    }\n",
       "\n",
       "    .dataframe tbody tr th {\n",
       "        vertical-align: top;\n",
       "    }\n",
       "\n",
       "    .dataframe thead th {\n",
       "        text-align: right;\n",
       "    }\n",
       "</style>\n",
       "<table border=\"1\" class=\"dataframe\">\n",
       "  <thead>\n",
       "    <tr style=\"text-align: right;\">\n",
       "      <th></th>\n",
       "      <th>SKU_number</th>\n",
       "      <th>PriceReg</th>\n",
       "      <th>ItemCount</th>\n",
       "      <th>File_Type</th>\n",
       "    </tr>\n",
       "  </thead>\n",
       "  <tbody>\n",
       "    <tr>\n",
       "      <th>0</th>\n",
       "      <td>1737127</td>\n",
       "      <td>44.99</td>\n",
       "      <td>8</td>\n",
       "      <td>Historical</td>\n",
       "    </tr>\n",
       "    <tr>\n",
       "      <th>1</th>\n",
       "      <td>3255963</td>\n",
       "      <td>24.81</td>\n",
       "      <td>39</td>\n",
       "      <td>Historical</td>\n",
       "    </tr>\n",
       "    <tr>\n",
       "      <th>2</th>\n",
       "      <td>612701</td>\n",
       "      <td>46.00</td>\n",
       "      <td>34</td>\n",
       "      <td>Historical</td>\n",
       "    </tr>\n",
       "    <tr>\n",
       "      <th>3</th>\n",
       "      <td>115883</td>\n",
       "      <td>100.00</td>\n",
       "      <td>20</td>\n",
       "      <td>Historical</td>\n",
       "    </tr>\n",
       "    <tr>\n",
       "      <th>4</th>\n",
       "      <td>863939</td>\n",
       "      <td>121.95</td>\n",
       "      <td>28</td>\n",
       "      <td>Historical</td>\n",
       "    </tr>\n",
       "  </tbody>\n",
       "</table>\n",
       "</div>"
      ],
      "text/plain": [
       "   SKU_number  PriceReg  ItemCount   File_Type\n",
       "0     1737127     44.99          8  Historical\n",
       "1     3255963     24.81         39  Historical\n",
       "2      612701     46.00         34  Historical\n",
       "3      115883    100.00         20  Historical\n",
       "4      863939    121.95         28  Historical"
      ]
     },
     "execution_count": 4,
     "metadata": {},
     "output_type": "execute_result"
    }
   ],
   "source": [
    "# Take a subset of the data, we need to use the price & the quantity of each item\n",
    "data_sub = data[['SKU_number', 'PriceReg', 'ItemCount', 'File_Type']][(data['File_Type'] == 'Historical')]\n",
    "\n",
    "data_sub.head()"
   ]
  },
  {
   "cell_type": "code",
   "execution_count": 5,
   "id": "acecedf2",
   "metadata": {
    "execution": {
     "iopub.execute_input": "2023-06-05T18:27:29.071270Z",
     "iopub.status.busy": "2023-06-05T18:27:29.070873Z",
     "iopub.status.idle": "2023-06-05T18:27:29.141820Z",
     "shell.execute_reply": "2023-06-05T18:27:29.140715Z"
    },
    "papermill": {
     "duration": 0.079679,
     "end_time": "2023-06-05T18:27:29.144506",
     "exception": false,
     "start_time": "2023-06-05T18:27:29.064827",
     "status": "completed"
    },
    "tags": []
   },
   "outputs": [],
   "source": [
    "# Create the column of the additive cost per SKU\n",
    "data_sub['AddCost'] = data_sub['PriceReg'] * data_sub['ItemCount']\n",
    "\n",
    "# Order By Cumulative Cost\n",
    "data_sub = data_sub.sort_values(by=['AddCost'], ascending= False)\n",
    "\n",
    "# Create the column of the running CumCost of the cumulative cost per SKU\n",
    "data_sub['RunCumCost'] = data_sub['AddCost'].cumsum()\n",
    "\n",
    "# Create the column of the total sum\n",
    "data_sub['TotSum'] = data_sub['AddCost'].sum()\n",
    "\n",
    "# Create the column of the running percentage\n",
    "data_sub['RunPerc'] = data_sub['RunCumCost']/data_sub['TotSum']\n",
    "\n",
    "# Create the column of the class\n",
    "data_sub['Class'] = data_sub['RunPerc'].apply(ABC_segmentation)"
   ]
  },
  {
   "cell_type": "code",
   "execution_count": 6,
   "id": "a28058a8",
   "metadata": {
    "execution": {
     "iopub.execute_input": "2023-06-05T18:27:29.156069Z",
     "iopub.status.busy": "2023-06-05T18:27:29.155685Z",
     "iopub.status.idle": "2023-06-05T18:27:29.174426Z",
     "shell.execute_reply": "2023-06-05T18:27:29.173494Z"
    },
    "papermill": {
     "duration": 0.027764,
     "end_time": "2023-06-05T18:27:29.176983",
     "exception": false,
     "start_time": "2023-06-05T18:27:29.149219",
     "status": "completed"
    },
    "tags": []
   },
   "outputs": [
    {
     "data": {
      "text/html": [
       "<div>\n",
       "<style scoped>\n",
       "    .dataframe tbody tr th:only-of-type {\n",
       "        vertical-align: middle;\n",
       "    }\n",
       "\n",
       "    .dataframe tbody tr th {\n",
       "        vertical-align: top;\n",
       "    }\n",
       "\n",
       "    .dataframe thead th {\n",
       "        text-align: right;\n",
       "    }\n",
       "</style>\n",
       "<table border=\"1\" class=\"dataframe\">\n",
       "  <thead>\n",
       "    <tr style=\"text-align: right;\">\n",
       "      <th></th>\n",
       "      <th>SKU_number</th>\n",
       "      <th>PriceReg</th>\n",
       "      <th>ItemCount</th>\n",
       "      <th>File_Type</th>\n",
       "      <th>AddCost</th>\n",
       "      <th>RunCumCost</th>\n",
       "      <th>TotSum</th>\n",
       "      <th>RunPerc</th>\n",
       "      <th>Class</th>\n",
       "    </tr>\n",
       "  </thead>\n",
       "  <tbody>\n",
       "    <tr>\n",
       "      <th>685</th>\n",
       "      <td>145889</td>\n",
       "      <td>244.6</td>\n",
       "      <td>851</td>\n",
       "      <td>Historical</td>\n",
       "      <td>208154.6</td>\n",
       "      <td>208154.6</td>\n",
       "      <td>3.426320e+08</td>\n",
       "      <td>0.000608</td>\n",
       "      <td>A</td>\n",
       "    </tr>\n",
       "    <tr>\n",
       "      <th>601</th>\n",
       "      <td>435034</td>\n",
       "      <td>281.8</td>\n",
       "      <td>616</td>\n",
       "      <td>Historical</td>\n",
       "      <td>173588.8</td>\n",
       "      <td>381743.4</td>\n",
       "      <td>3.426320e+08</td>\n",
       "      <td>0.001114</td>\n",
       "      <td>A</td>\n",
       "    </tr>\n",
       "    <tr>\n",
       "      <th>75056</th>\n",
       "      <td>538479</td>\n",
       "      <td>2645.3</td>\n",
       "      <td>49</td>\n",
       "      <td>Historical</td>\n",
       "      <td>129619.7</td>\n",
       "      <td>511363.1</td>\n",
       "      <td>3.426320e+08</td>\n",
       "      <td>0.001492</td>\n",
       "      <td>A</td>\n",
       "    </tr>\n",
       "    <tr>\n",
       "      <th>5752</th>\n",
       "      <td>212633</td>\n",
       "      <td>235.6</td>\n",
       "      <td>521</td>\n",
       "      <td>Historical</td>\n",
       "      <td>122747.6</td>\n",
       "      <td>634110.7</td>\n",
       "      <td>3.426320e+08</td>\n",
       "      <td>0.001851</td>\n",
       "      <td>A</td>\n",
       "    </tr>\n",
       "    <tr>\n",
       "      <th>3758</th>\n",
       "      <td>212480</td>\n",
       "      <td>208.8</td>\n",
       "      <td>579</td>\n",
       "      <td>Historical</td>\n",
       "      <td>120895.2</td>\n",
       "      <td>755005.9</td>\n",
       "      <td>3.426320e+08</td>\n",
       "      <td>0.002204</td>\n",
       "      <td>A</td>\n",
       "    </tr>\n",
       "  </tbody>\n",
       "</table>\n",
       "</div>"
      ],
      "text/plain": [
       "       SKU_number  PriceReg  ItemCount   File_Type   AddCost  RunCumCost  \\\n",
       "685        145889     244.6        851  Historical  208154.6    208154.6   \n",
       "601        435034     281.8        616  Historical  173588.8    381743.4   \n",
       "75056      538479    2645.3         49  Historical  129619.7    511363.1   \n",
       "5752       212633     235.6        521  Historical  122747.6    634110.7   \n",
       "3758       212480     208.8        579  Historical  120895.2    755005.9   \n",
       "\n",
       "             TotSum   RunPerc Class  \n",
       "685    3.426320e+08  0.000608     A  \n",
       "601    3.426320e+08  0.001114     A  \n",
       "75056  3.426320e+08  0.001492     A  \n",
       "5752   3.426320e+08  0.001851     A  \n",
       "3758   3.426320e+08  0.002204     A  "
      ]
     },
     "execution_count": 6,
     "metadata": {},
     "output_type": "execute_result"
    }
   ],
   "source": [
    "# Check the data\n",
    "data_sub.head()"
   ]
  },
  {
   "cell_type": "code",
   "execution_count": 7,
   "id": "650ec034",
   "metadata": {
    "execution": {
     "iopub.execute_input": "2023-06-05T18:27:29.189111Z",
     "iopub.status.busy": "2023-06-05T18:27:29.188706Z",
     "iopub.status.idle": "2023-06-05T18:27:29.212111Z",
     "shell.execute_reply": "2023-06-05T18:27:29.210926Z"
    },
    "papermill": {
     "duration": 0.03238,
     "end_time": "2023-06-05T18:27:29.214499",
     "exception": false,
     "start_time": "2023-06-05T18:27:29.182119",
     "status": "completed"
    },
    "tags": []
   },
   "outputs": [
    {
     "data": {
      "text/plain": [
       "C    37413\n",
       "B    22288\n",
       "A    16295\n",
       "Name: Class, dtype: int64"
      ]
     },
     "execution_count": 7,
     "metadata": {},
     "output_type": "execute_result"
    }
   ],
   "source": [
    "# Total SKUs for each class\n",
    "data_sub['Class'].value_counts()"
   ]
  },
  {
   "cell_type": "code",
   "execution_count": 8,
   "id": "b83a3731",
   "metadata": {
    "execution": {
     "iopub.execute_input": "2023-06-05T18:27:29.227260Z",
     "iopub.status.busy": "2023-06-05T18:27:29.226172Z",
     "iopub.status.idle": "2023-06-05T18:27:29.283725Z",
     "shell.execute_reply": "2023-06-05T18:27:29.282189Z"
    },
    "papermill": {
     "duration": 0.066797,
     "end_time": "2023-06-05T18:27:29.286519",
     "exception": false,
     "start_time": "2023-06-05T18:27:29.219722",
     "status": "completed"
    },
    "tags": []
   },
   "outputs": [
    {
     "name": "stdout",
     "output_type": "stream",
     "text": [
      "Cost of Class A: 205577451.4\n",
      "Cost of Class B: 85658215.25999999\n",
      "Cost of Class C: 51396361.129999995\n"
     ]
    }
   ],
   "source": [
    "# Total cost per class\n",
    "print('Cost of Class A:', data_sub[data_sub['Class']=='A']['AddCost'].sum())\n",
    "print('Cost of Class B:', data_sub[data_sub['Class']=='B']['AddCost'].sum())\n",
    "print('Cost of Class C:', data_sub[data_sub['Class']=='C']['AddCost'].sum())"
   ]
  },
  {
   "cell_type": "code",
   "execution_count": 9,
   "id": "f8e2c155",
   "metadata": {
    "execution": {
     "iopub.execute_input": "2023-06-05T18:27:29.299277Z",
     "iopub.status.busy": "2023-06-05T18:27:29.298910Z",
     "iopub.status.idle": "2023-06-05T18:27:29.352327Z",
     "shell.execute_reply": "2023-06-05T18:27:29.351342Z"
    },
    "papermill": {
     "duration": 0.062727,
     "end_time": "2023-06-05T18:27:29.354775",
     "exception": false,
     "start_time": "2023-06-05T18:27:29.292048",
     "status": "completed"
    },
    "tags": []
   },
   "outputs": [
    {
     "name": "stdout",
     "output_type": "stream",
     "text": [
      "Percentage of Cost of Class A: 0.5999948479013728\n",
      "Percentage of Cost of Class B: 0.2500006079773141\n",
      "Percentage of Cost of Class C: 0.15000454412131298\n"
     ]
    }
   ],
   "source": [
    "# Percentage of total cost per class\n",
    "print('Percentage of Cost of Class A:', data_sub[data_sub['Class']=='A']['AddCost'].sum()/data_sub['AddCost'].sum())\n",
    "print('Percentage of Cost of Class B:', data_sub[data_sub['Class']=='B']['AddCost'].sum()/data_sub['AddCost'].sum())\n",
    "print('Percentage of Cost of Class C:', data_sub[data_sub['Class']=='C']['AddCost'].sum()/data_sub['AddCost'].sum())"
   ]
  },
  {
   "cell_type": "code",
   "execution_count": null,
   "id": "66faf813",
   "metadata": {
    "papermill": {
     "duration": 0.004939,
     "end_time": "2023-06-05T18:27:29.365081",
     "exception": false,
     "start_time": "2023-06-05T18:27:29.360142",
     "status": "completed"
    },
    "tags": []
   },
   "outputs": [],
   "source": []
  }
 ],
 "metadata": {
  "kernelspec": {
   "display_name": "Python 3",
   "language": "python",
   "name": "python3"
  },
  "language_info": {
   "codemirror_mode": {
    "name": "ipython",
    "version": 3
   },
   "file_extension": ".py",
   "mimetype": "text/x-python",
   "name": "python",
   "nbconvert_exporter": "python",
   "pygments_lexer": "ipython3",
   "version": "3.10.10"
  },
  "papermill": {
   "default_parameters": {},
   "duration": 15.762845,
   "end_time": "2023-06-05T18:27:30.292446",
   "environment_variables": {},
   "exception": null,
   "input_path": "__notebook__.ipynb",
   "output_path": "__notebook__.ipynb",
   "parameters": {},
   "start_time": "2023-06-05T18:27:14.529601",
   "version": "2.4.0"
  }
 },
 "nbformat": 4,
 "nbformat_minor": 5
}
