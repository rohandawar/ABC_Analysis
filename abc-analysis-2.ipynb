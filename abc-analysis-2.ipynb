{
 "cells": [
  {
   "cell_type": "code",
   "execution_count": 1,
   "id": "3c68d058",
   "metadata": {
    "execution": {
     "iopub.execute_input": "2023-06-08T13:09:22.788657Z",
     "iopub.status.busy": "2023-06-08T13:09:22.788016Z",
     "iopub.status.idle": "2023-06-08T13:09:24.443350Z",
     "shell.execute_reply": "2023-06-08T13:09:24.442319Z"
    },
    "papermill": {
     "duration": 1.663749,
     "end_time": "2023-06-08T13:09:24.445896",
     "exception": false,
     "start_time": "2023-06-08T13:09:22.782147",
     "status": "completed"
    },
    "tags": []
   },
   "outputs": [],
   "source": [
    "# Import Libs\n",
    "\n",
    "# General\n",
    "import pandas as pd\n",
    "import numpy as np\n",
    "\n",
    "# Plotting\n",
    "import matplotlib.pyplot as plt\n",
    "import seaborn as sns"
   ]
  },
  {
   "cell_type": "code",
   "execution_count": 2,
   "id": "45c38345",
   "metadata": {
    "execution": {
     "iopub.execute_input": "2023-06-08T13:09:24.453559Z",
     "iopub.status.busy": "2023-06-08T13:09:24.453118Z",
     "iopub.status.idle": "2023-06-08T13:09:24.901057Z",
     "shell.execute_reply": "2023-06-08T13:09:24.900123Z"
    },
    "papermill": {
     "duration": 0.454508,
     "end_time": "2023-06-08T13:09:24.903467",
     "exception": false,
     "start_time": "2023-06-08T13:09:24.448959",
     "status": "completed"
    },
    "tags": []
   },
   "outputs": [
    {
     "data": {
      "text/html": [
       "<div>\n",
       "<style scoped>\n",
       "    .dataframe tbody tr th:only-of-type {\n",
       "        vertical-align: middle;\n",
       "    }\n",
       "\n",
       "    .dataframe tbody tr th {\n",
       "        vertical-align: top;\n",
       "    }\n",
       "\n",
       "    .dataframe thead th {\n",
       "        text-align: right;\n",
       "    }\n",
       "</style>\n",
       "<table border=\"1\" class=\"dataframe\">\n",
       "  <thead>\n",
       "    <tr style=\"text-align: right;\">\n",
       "      <th></th>\n",
       "      <th>Order</th>\n",
       "      <th>File_Type</th>\n",
       "      <th>SKU_number</th>\n",
       "      <th>SoldFlag</th>\n",
       "      <th>SoldCount</th>\n",
       "      <th>MarketingType</th>\n",
       "      <th>ReleaseNumber</th>\n",
       "      <th>New_Release_Flag</th>\n",
       "      <th>StrengthFactor</th>\n",
       "      <th>PriceReg</th>\n",
       "      <th>ReleaseYear</th>\n",
       "      <th>ItemCount</th>\n",
       "      <th>LowUserPrice</th>\n",
       "      <th>LowNetPrice</th>\n",
       "    </tr>\n",
       "  </thead>\n",
       "  <tbody>\n",
       "    <tr>\n",
       "      <th>0</th>\n",
       "      <td>2</td>\n",
       "      <td>Historical</td>\n",
       "      <td>1737127</td>\n",
       "      <td>0.0</td>\n",
       "      <td>0.0</td>\n",
       "      <td>D</td>\n",
       "      <td>15</td>\n",
       "      <td>1</td>\n",
       "      <td>682743.0</td>\n",
       "      <td>44.99</td>\n",
       "      <td>2015</td>\n",
       "      <td>8</td>\n",
       "      <td>28.97</td>\n",
       "      <td>31.84</td>\n",
       "    </tr>\n",
       "    <tr>\n",
       "      <th>1</th>\n",
       "      <td>3</td>\n",
       "      <td>Historical</td>\n",
       "      <td>3255963</td>\n",
       "      <td>0.0</td>\n",
       "      <td>0.0</td>\n",
       "      <td>D</td>\n",
       "      <td>7</td>\n",
       "      <td>1</td>\n",
       "      <td>1016014.0</td>\n",
       "      <td>24.81</td>\n",
       "      <td>2005</td>\n",
       "      <td>39</td>\n",
       "      <td>0.00</td>\n",
       "      <td>15.54</td>\n",
       "    </tr>\n",
       "    <tr>\n",
       "      <th>2</th>\n",
       "      <td>4</td>\n",
       "      <td>Historical</td>\n",
       "      <td>612701</td>\n",
       "      <td>0.0</td>\n",
       "      <td>0.0</td>\n",
       "      <td>D</td>\n",
       "      <td>0</td>\n",
       "      <td>0</td>\n",
       "      <td>340464.0</td>\n",
       "      <td>46.00</td>\n",
       "      <td>2013</td>\n",
       "      <td>34</td>\n",
       "      <td>30.19</td>\n",
       "      <td>27.97</td>\n",
       "    </tr>\n",
       "    <tr>\n",
       "      <th>3</th>\n",
       "      <td>6</td>\n",
       "      <td>Historical</td>\n",
       "      <td>115883</td>\n",
       "      <td>1.0</td>\n",
       "      <td>1.0</td>\n",
       "      <td>D</td>\n",
       "      <td>4</td>\n",
       "      <td>1</td>\n",
       "      <td>334011.0</td>\n",
       "      <td>100.00</td>\n",
       "      <td>2006</td>\n",
       "      <td>20</td>\n",
       "      <td>133.93</td>\n",
       "      <td>83.15</td>\n",
       "    </tr>\n",
       "    <tr>\n",
       "      <th>4</th>\n",
       "      <td>7</td>\n",
       "      <td>Historical</td>\n",
       "      <td>863939</td>\n",
       "      <td>1.0</td>\n",
       "      <td>1.0</td>\n",
       "      <td>D</td>\n",
       "      <td>2</td>\n",
       "      <td>1</td>\n",
       "      <td>1287938.0</td>\n",
       "      <td>121.95</td>\n",
       "      <td>2010</td>\n",
       "      <td>28</td>\n",
       "      <td>4.00</td>\n",
       "      <td>23.99</td>\n",
       "    </tr>\n",
       "  </tbody>\n",
       "</table>\n",
       "</div>"
      ],
      "text/plain": [
       "   Order   File_Type  SKU_number  SoldFlag  SoldCount MarketingType  \\\n",
       "0      2  Historical     1737127       0.0        0.0             D   \n",
       "1      3  Historical     3255963       0.0        0.0             D   \n",
       "2      4  Historical      612701       0.0        0.0             D   \n",
       "3      6  Historical      115883       1.0        1.0             D   \n",
       "4      7  Historical      863939       1.0        1.0             D   \n",
       "\n",
       "   ReleaseNumber  New_Release_Flag  StrengthFactor  PriceReg  ReleaseYear  \\\n",
       "0             15                 1        682743.0     44.99         2015   \n",
       "1              7                 1       1016014.0     24.81         2005   \n",
       "2              0                 0        340464.0     46.00         2013   \n",
       "3              4                 1        334011.0    100.00         2006   \n",
       "4              2                 1       1287938.0    121.95         2010   \n",
       "\n",
       "   ItemCount  LowUserPrice  LowNetPrice  \n",
       "0          8         28.97        31.84  \n",
       "1         39          0.00        15.54  \n",
       "2         34         30.19        27.97  \n",
       "3         20        133.93        83.15  \n",
       "4         28          4.00        23.99  "
      ]
     },
     "execution_count": 2,
     "metadata": {},
     "output_type": "execute_result"
    }
   ],
   "source": [
    "# Read the data\n",
    "data_sub = pd.read_csv('/kaggle/input/sales-analysis/SalesKaggle3.csv')\n",
    "data_sub.head()"
   ]
  },
  {
   "cell_type": "code",
   "execution_count": 3,
   "id": "beef7dbc",
   "metadata": {
    "execution": {
     "iopub.execute_input": "2023-06-08T13:09:24.911529Z",
     "iopub.status.busy": "2023-06-08T13:09:24.910639Z",
     "iopub.status.idle": "2023-06-08T13:09:24.935273Z",
     "shell.execute_reply": "2023-06-08T13:09:24.933952Z"
    },
    "papermill": {
     "duration": 0.030969,
     "end_time": "2023-06-08T13:09:24.937426",
     "exception": false,
     "start_time": "2023-06-08T13:09:24.906457",
     "status": "completed"
    },
    "tags": []
   },
   "outputs": [
    {
     "data": {
      "text/plain": [
       "Active        122921\n",
       "Historical     75996\n",
       "Name: File_Type, dtype: int64"
      ]
     },
     "execution_count": 3,
     "metadata": {},
     "output_type": "execute_result"
    }
   ],
   "source": [
    "data_sub['File_Type'].value_counts()"
   ]
  },
  {
   "cell_type": "code",
   "execution_count": 4,
   "id": "03ce64dd",
   "metadata": {
    "execution": {
     "iopub.execute_input": "2023-06-08T13:09:24.945202Z",
     "iopub.status.busy": "2023-06-08T13:09:24.944786Z",
     "iopub.status.idle": "2023-06-08T13:09:24.951384Z",
     "shell.execute_reply": "2023-06-08T13:09:24.949905Z"
    },
    "papermill": {
     "duration": 0.012771,
     "end_time": "2023-06-08T13:09:24.953383",
     "exception": false,
     "start_time": "2023-06-08T13:09:24.940612",
     "status": "completed"
    },
    "tags": []
   },
   "outputs": [],
   "source": [
    "# Function Defination\n",
    "def ABC_segmentation(perc):\n",
    "    \"\"\"\n",
    "    Create the 3 classes A, B, C based on\n",
    "    quantity percentage (A-60%, B-25%, C-15%)\n",
    "    \"\"\"\n",
    "    if perc > 0 and perc <0.6 :\n",
    "        return 'A'\n",
    "    elif perc >=0.6 and perc <0.85:\n",
    "        return 'B'\n",
    "    elif perc >=0.85:\n",
    "        return 'C'"
   ]
  },
  {
   "cell_type": "code",
   "execution_count": 5,
   "id": "e2f15898",
   "metadata": {
    "execution": {
     "iopub.execute_input": "2023-06-08T13:09:24.961165Z",
     "iopub.status.busy": "2023-06-08T13:09:24.960747Z",
     "iopub.status.idle": "2023-06-08T13:09:25.103388Z",
     "shell.execute_reply": "2023-06-08T13:09:25.101767Z"
    },
    "papermill": {
     "duration": 0.149486,
     "end_time": "2023-06-08T13:09:25.106128",
     "exception": false,
     "start_time": "2023-06-08T13:09:24.956642",
     "status": "completed"
    },
    "tags": []
   },
   "outputs": [],
   "source": [
    "# Create the column of the additive cost per SKU\n",
    "data_sub['AddCost'] = data_sub['PriceReg'] * data_sub['ItemCount']\n",
    "\n",
    "# Order By Cumulative Cost\n",
    "data_sub = data_sub.sort_values(by=['AddCost'], ascending= False)\n",
    "\n",
    "# Create the column of the running CumCost of the cumulative cost per SKU\n",
    "data_sub['RunCumCost'] = data_sub['AddCost'].cumsum()\n",
    "\n",
    "# Create the column of the total sum\n",
    "data_sub['TotSum'] = data_sub['AddCost'].sum()\n",
    "\n",
    "# Create the column of the running percentage\n",
    "data_sub['RunPerc'] = data_sub['RunCumCost']/data_sub['TotSum']\n",
    "\n",
    "# Create the column of the class\n",
    "data_sub['Class'] = data_sub['RunPerc'].apply(ABC_segmentation)"
   ]
  },
  {
   "cell_type": "code",
   "execution_count": 6,
   "id": "40664684",
   "metadata": {
    "execution": {
     "iopub.execute_input": "2023-06-08T13:09:25.116162Z",
     "iopub.status.busy": "2023-06-08T13:09:25.115704Z",
     "iopub.status.idle": "2023-06-08T13:09:25.138217Z",
     "shell.execute_reply": "2023-06-08T13:09:25.136605Z"
    },
    "papermill": {
     "duration": 0.029796,
     "end_time": "2023-06-08T13:09:25.140434",
     "exception": false,
     "start_time": "2023-06-08T13:09:25.110638",
     "status": "completed"
    },
    "tags": []
   },
   "outputs": [
    {
     "data": {
      "text/html": [
       "<div>\n",
       "<style scoped>\n",
       "    .dataframe tbody tr th:only-of-type {\n",
       "        vertical-align: middle;\n",
       "    }\n",
       "\n",
       "    .dataframe tbody tr th {\n",
       "        vertical-align: top;\n",
       "    }\n",
       "\n",
       "    .dataframe thead th {\n",
       "        text-align: right;\n",
       "    }\n",
       "</style>\n",
       "<table border=\"1\" class=\"dataframe\">\n",
       "  <thead>\n",
       "    <tr style=\"text-align: right;\">\n",
       "      <th></th>\n",
       "      <th>Order</th>\n",
       "      <th>File_Type</th>\n",
       "      <th>SKU_number</th>\n",
       "      <th>SoldFlag</th>\n",
       "      <th>SoldCount</th>\n",
       "      <th>MarketingType</th>\n",
       "      <th>ReleaseNumber</th>\n",
       "      <th>New_Release_Flag</th>\n",
       "      <th>StrengthFactor</th>\n",
       "      <th>PriceReg</th>\n",
       "      <th>ReleaseYear</th>\n",
       "      <th>ItemCount</th>\n",
       "      <th>LowUserPrice</th>\n",
       "      <th>LowNetPrice</th>\n",
       "      <th>AddCost</th>\n",
       "      <th>RunCumCost</th>\n",
       "      <th>TotSum</th>\n",
       "      <th>RunPerc</th>\n",
       "      <th>Class</th>\n",
       "    </tr>\n",
       "  </thead>\n",
       "  <tbody>\n",
       "    <tr>\n",
       "      <th>112548</th>\n",
       "      <td>121659</td>\n",
       "      <td>Active</td>\n",
       "      <td>923197</td>\n",
       "      <td>NaN</td>\n",
       "      <td>NaN</td>\n",
       "      <td>S</td>\n",
       "      <td>0</td>\n",
       "      <td>0</td>\n",
       "      <td>4.294796e+05</td>\n",
       "      <td>2999.99</td>\n",
       "      <td>1997</td>\n",
       "      <td>121</td>\n",
       "      <td>3.72</td>\n",
       "      <td>5.40</td>\n",
       "      <td>362998.79</td>\n",
       "      <td>362998.79</td>\n",
       "      <td>792481525.9</td>\n",
       "      <td>0.000458</td>\n",
       "      <td>A</td>\n",
       "    </tr>\n",
       "    <tr>\n",
       "      <th>79160</th>\n",
       "      <td>88271</td>\n",
       "      <td>Active</td>\n",
       "      <td>622234</td>\n",
       "      <td>NaN</td>\n",
       "      <td>NaN</td>\n",
       "      <td>D</td>\n",
       "      <td>1</td>\n",
       "      <td>0</td>\n",
       "      <td>1.403206e+06</td>\n",
       "      <td>6182.67</td>\n",
       "      <td>1985</td>\n",
       "      <td>43</td>\n",
       "      <td>4.00</td>\n",
       "      <td>51.74</td>\n",
       "      <td>265854.81</td>\n",
       "      <td>628853.60</td>\n",
       "      <td>792481525.9</td>\n",
       "      <td>0.000794</td>\n",
       "      <td>A</td>\n",
       "    </tr>\n",
       "    <tr>\n",
       "      <th>685</th>\n",
       "      <td>693</td>\n",
       "      <td>Historical</td>\n",
       "      <td>145889</td>\n",
       "      <td>1.0</td>\n",
       "      <td>1.0</td>\n",
       "      <td>D</td>\n",
       "      <td>9</td>\n",
       "      <td>1</td>\n",
       "      <td>2.338000e+03</td>\n",
       "      <td>244.60</td>\n",
       "      <td>2010</td>\n",
       "      <td>851</td>\n",
       "      <td>135.90</td>\n",
       "      <td>48.98</td>\n",
       "      <td>208154.60</td>\n",
       "      <td>837008.20</td>\n",
       "      <td>792481525.9</td>\n",
       "      <td>0.001056</td>\n",
       "      <td>A</td>\n",
       "    </tr>\n",
       "    <tr>\n",
       "      <th>601</th>\n",
       "      <td>609</td>\n",
       "      <td>Historical</td>\n",
       "      <td>435034</td>\n",
       "      <td>1.0</td>\n",
       "      <td>2.0</td>\n",
       "      <td>D</td>\n",
       "      <td>9</td>\n",
       "      <td>1</td>\n",
       "      <td>1.746000e+03</td>\n",
       "      <td>281.80</td>\n",
       "      <td>2012</td>\n",
       "      <td>616</td>\n",
       "      <td>173.30</td>\n",
       "      <td>48.99</td>\n",
       "      <td>173588.80</td>\n",
       "      <td>1010597.00</td>\n",
       "      <td>792481525.9</td>\n",
       "      <td>0.001275</td>\n",
       "      <td>A</td>\n",
       "    </tr>\n",
       "    <tr>\n",
       "      <th>196941</th>\n",
       "      <td>206052</td>\n",
       "      <td>Active</td>\n",
       "      <td>538479</td>\n",
       "      <td>NaN</td>\n",
       "      <td>NaN</td>\n",
       "      <td>S</td>\n",
       "      <td>3</td>\n",
       "      <td>1</td>\n",
       "      <td>2.758436e+05</td>\n",
       "      <td>2645.30</td>\n",
       "      <td>2009</td>\n",
       "      <td>65</td>\n",
       "      <td>4.00</td>\n",
       "      <td>72.05</td>\n",
       "      <td>171944.50</td>\n",
       "      <td>1182541.50</td>\n",
       "      <td>792481525.9</td>\n",
       "      <td>0.001492</td>\n",
       "      <td>A</td>\n",
       "    </tr>\n",
       "  </tbody>\n",
       "</table>\n",
       "</div>"
      ],
      "text/plain": [
       "         Order   File_Type  SKU_number  SoldFlag  SoldCount MarketingType  \\\n",
       "112548  121659      Active      923197       NaN        NaN             S   \n",
       "79160    88271      Active      622234       NaN        NaN             D   \n",
       "685        693  Historical      145889       1.0        1.0             D   \n",
       "601        609  Historical      435034       1.0        2.0             D   \n",
       "196941  206052      Active      538479       NaN        NaN             S   \n",
       "\n",
       "        ReleaseNumber  New_Release_Flag  StrengthFactor  PriceReg  \\\n",
       "112548              0                 0    4.294796e+05   2999.99   \n",
       "79160               1                 0    1.403206e+06   6182.67   \n",
       "685                 9                 1    2.338000e+03    244.60   \n",
       "601                 9                 1    1.746000e+03    281.80   \n",
       "196941              3                 1    2.758436e+05   2645.30   \n",
       "\n",
       "        ReleaseYear  ItemCount  LowUserPrice  LowNetPrice    AddCost  \\\n",
       "112548         1997        121          3.72         5.40  362998.79   \n",
       "79160          1985         43          4.00        51.74  265854.81   \n",
       "685            2010        851        135.90        48.98  208154.60   \n",
       "601            2012        616        173.30        48.99  173588.80   \n",
       "196941         2009         65          4.00        72.05  171944.50   \n",
       "\n",
       "        RunCumCost       TotSum   RunPerc Class  \n",
       "112548   362998.79  792481525.9  0.000458     A  \n",
       "79160    628853.60  792481525.9  0.000794     A  \n",
       "685      837008.20  792481525.9  0.001056     A  \n",
       "601     1010597.00  792481525.9  0.001275     A  \n",
       "196941  1182541.50  792481525.9  0.001492     A  "
      ]
     },
     "execution_count": 6,
     "metadata": {},
     "output_type": "execute_result"
    }
   ],
   "source": [
    "# Check the data\n",
    "data_sub.head()"
   ]
  },
  {
   "cell_type": "code",
   "execution_count": 7,
   "id": "1ac5a6ee",
   "metadata": {
    "execution": {
     "iopub.execute_input": "2023-06-08T13:09:25.149150Z",
     "iopub.status.busy": "2023-06-08T13:09:25.148685Z",
     "iopub.status.idle": "2023-06-08T13:09:25.166481Z",
     "shell.execute_reply": "2023-06-08T13:09:25.164820Z"
    },
    "papermill": {
     "duration": 0.02484,
     "end_time": "2023-06-08T13:09:25.168834",
     "exception": false,
     "start_time": "2023-06-08T13:09:25.143994",
     "status": "completed"
    },
    "tags": []
   },
   "outputs": [
    {
     "data": {
      "text/plain": [
       "C    101749\n",
       "B     57170\n",
       "A     39998\n",
       "Name: Class, dtype: int64"
      ]
     },
     "execution_count": 7,
     "metadata": {},
     "output_type": "execute_result"
    }
   ],
   "source": [
    "# Total SKUs for each class\n",
    "data_sub['Class'].value_counts()"
   ]
  },
  {
   "cell_type": "code",
   "execution_count": 8,
   "id": "50f36635",
   "metadata": {
    "execution": {
     "iopub.execute_input": "2023-06-08T13:09:25.179205Z",
     "iopub.status.busy": "2023-06-08T13:09:25.178784Z",
     "iopub.status.idle": "2023-06-08T13:09:25.269413Z",
     "shell.execute_reply": "2023-06-08T13:09:25.267990Z"
    },
    "papermill": {
     "duration": 0.099225,
     "end_time": "2023-06-08T13:09:25.271967",
     "exception": false,
     "start_time": "2023-06-08T13:09:25.172742",
     "status": "completed"
    },
    "tags": []
   },
   "outputs": [
    {
     "name": "stdout",
     "output_type": "stream",
     "text": [
      "Cost of Class A: 475485669.73\n",
      "Cost of Class B: 198121395.61\n",
      "Cost of Class C: 118874460.56000002\n"
     ]
    }
   ],
   "source": [
    "# Total cost per class\n",
    "print('Cost of Class A:', data_sub[data_sub['Class']=='A']['AddCost'].sum())\n",
    "print('Cost of Class B:', data_sub[data_sub['Class']=='B']['AddCost'].sum())\n",
    "print('Cost of Class C:', data_sub[data_sub['Class']=='C']['AddCost'].sum())"
   ]
  },
  {
   "cell_type": "code",
   "execution_count": 9,
   "id": "3a9243b9",
   "metadata": {
    "execution": {
     "iopub.execute_input": "2023-06-08T13:09:25.281509Z",
     "iopub.status.busy": "2023-06-08T13:09:25.281118Z",
     "iopub.status.idle": "2023-06-08T13:09:25.342824Z",
     "shell.execute_reply": "2023-06-08T13:09:25.341010Z"
    },
    "papermill": {
     "duration": 0.069625,
     "end_time": "2023-06-08T13:09:25.345423",
     "exception": false,
     "start_time": "2023-06-08T13:09:25.275798",
     "status": "completed"
    },
    "tags": []
   },
   "outputs": [
    {
     "name": "stdout",
     "output_type": "stream",
     "text": [
      "Percentage of Cost of Class A: 0.5999959042452171\n",
      "Percentage of Cost of Class B: 0.25000127969544633\n",
      "Percentage of Cost of Class C: 0.1500028160593365\n"
     ]
    }
   ],
   "source": [
    "# Percentage of total cost per class\n",
    "print('Percentage of Cost of Class A:', data_sub[data_sub['Class']=='A']['AddCost'].sum()/data_sub['AddCost'].sum())\n",
    "print('Percentage of Cost of Class B:', data_sub[data_sub['Class']=='B']['AddCost'].sum()/data_sub['AddCost'].sum())\n",
    "print('Percentage of Cost of Class C:', data_sub[data_sub['Class']=='C']['AddCost'].sum()/data_sub['AddCost'].sum())"
   ]
  },
  {
   "cell_type": "code",
   "execution_count": null,
   "id": "4e48a8ed",
   "metadata": {
    "papermill": {
     "duration": 0.003768,
     "end_time": "2023-06-08T13:09:25.353313",
     "exception": false,
     "start_time": "2023-06-08T13:09:25.349545",
     "status": "completed"
    },
    "tags": []
   },
   "outputs": [],
   "source": []
  }
 ],
 "metadata": {
  "kernelspec": {
   "display_name": "Python 3",
   "language": "python",
   "name": "python3"
  },
  "language_info": {
   "codemirror_mode": {
    "name": "ipython",
    "version": 3
   },
   "file_extension": ".py",
   "mimetype": "text/x-python",
   "name": "python",
   "nbconvert_exporter": "python",
   "pygments_lexer": "ipython3",
   "version": "3.10.10"
  },
  "papermill": {
   "default_parameters": {},
   "duration": 13.440045,
   "end_time": "2023-06-08T13:09:26.381195",
   "environment_variables": {},
   "exception": null,
   "input_path": "__notebook__.ipynb",
   "output_path": "__notebook__.ipynb",
   "parameters": {},
   "start_time": "2023-06-08T13:09:12.941150",
   "version": "2.4.0"
  }
 },
 "nbformat": 4,
 "nbformat_minor": 5
}
