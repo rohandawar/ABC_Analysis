{
 "cells": [
  {
   "cell_type": "code",
   "execution_count": 1,
   "id": "d62f8835",
   "metadata": {
    "execution": {
     "iopub.execute_input": "2023-06-06T11:57:56.511315Z",
     "iopub.status.busy": "2023-06-06T11:57:56.510942Z",
     "iopub.status.idle": "2023-06-06T11:57:57.949700Z",
     "shell.execute_reply": "2023-06-06T11:57:57.948513Z"
    },
    "papermill": {
     "duration": 1.448132,
     "end_time": "2023-06-06T11:57:57.952535",
     "exception": false,
     "start_time": "2023-06-06T11:57:56.504403",
     "status": "completed"
    },
    "tags": []
   },
   "outputs": [],
   "source": [
    "# Import Libs\n",
    "\n",
    "# General\n",
    "import pandas as pd\n",
    "import numpy as np\n",
    "\n",
    "# Plotting\n",
    "import matplotlib.pyplot as plt\n",
    "import seaborn as sns"
   ]
  },
  {
   "cell_type": "code",
   "execution_count": 2,
   "id": "7b69d445",
   "metadata": {
    "execution": {
     "iopub.execute_input": "2023-06-06T11:57:57.963157Z",
     "iopub.status.busy": "2023-06-06T11:57:57.962771Z",
     "iopub.status.idle": "2023-06-06T11:57:58.557112Z",
     "shell.execute_reply": "2023-06-06T11:57:58.555666Z"
    },
    "papermill": {
     "duration": 0.602675,
     "end_time": "2023-06-06T11:57:58.559875",
     "exception": false,
     "start_time": "2023-06-06T11:57:57.957200",
     "status": "completed"
    },
    "tags": []
   },
   "outputs": [
    {
     "data": {
      "text/html": [
       "<div>\n",
       "<style scoped>\n",
       "    .dataframe tbody tr th:only-of-type {\n",
       "        vertical-align: middle;\n",
       "    }\n",
       "\n",
       "    .dataframe tbody tr th {\n",
       "        vertical-align: top;\n",
       "    }\n",
       "\n",
       "    .dataframe thead th {\n",
       "        text-align: right;\n",
       "    }\n",
       "</style>\n",
       "<table border=\"1\" class=\"dataframe\">\n",
       "  <thead>\n",
       "    <tr style=\"text-align: right;\">\n",
       "      <th></th>\n",
       "      <th>Order</th>\n",
       "      <th>File_Type</th>\n",
       "      <th>SKU_number</th>\n",
       "      <th>SoldFlag</th>\n",
       "      <th>SoldCount</th>\n",
       "      <th>MarketingType</th>\n",
       "      <th>ReleaseNumber</th>\n",
       "      <th>New_Release_Flag</th>\n",
       "      <th>StrengthFactor</th>\n",
       "      <th>PriceReg</th>\n",
       "      <th>ReleaseYear</th>\n",
       "      <th>ItemCount</th>\n",
       "      <th>LowUserPrice</th>\n",
       "      <th>LowNetPrice</th>\n",
       "    </tr>\n",
       "  </thead>\n",
       "  <tbody>\n",
       "    <tr>\n",
       "      <th>0</th>\n",
       "      <td>2</td>\n",
       "      <td>Historical</td>\n",
       "      <td>1737127</td>\n",
       "      <td>0.0</td>\n",
       "      <td>0.0</td>\n",
       "      <td>D</td>\n",
       "      <td>15</td>\n",
       "      <td>1</td>\n",
       "      <td>682743.0</td>\n",
       "      <td>44.99</td>\n",
       "      <td>2015</td>\n",
       "      <td>8</td>\n",
       "      <td>28.97</td>\n",
       "      <td>31.84</td>\n",
       "    </tr>\n",
       "    <tr>\n",
       "      <th>1</th>\n",
       "      <td>3</td>\n",
       "      <td>Historical</td>\n",
       "      <td>3255963</td>\n",
       "      <td>0.0</td>\n",
       "      <td>0.0</td>\n",
       "      <td>D</td>\n",
       "      <td>7</td>\n",
       "      <td>1</td>\n",
       "      <td>1016014.0</td>\n",
       "      <td>24.81</td>\n",
       "      <td>2005</td>\n",
       "      <td>39</td>\n",
       "      <td>0.00</td>\n",
       "      <td>15.54</td>\n",
       "    </tr>\n",
       "    <tr>\n",
       "      <th>2</th>\n",
       "      <td>4</td>\n",
       "      <td>Historical</td>\n",
       "      <td>612701</td>\n",
       "      <td>0.0</td>\n",
       "      <td>0.0</td>\n",
       "      <td>D</td>\n",
       "      <td>0</td>\n",
       "      <td>0</td>\n",
       "      <td>340464.0</td>\n",
       "      <td>46.00</td>\n",
       "      <td>2013</td>\n",
       "      <td>34</td>\n",
       "      <td>30.19</td>\n",
       "      <td>27.97</td>\n",
       "    </tr>\n",
       "    <tr>\n",
       "      <th>3</th>\n",
       "      <td>6</td>\n",
       "      <td>Historical</td>\n",
       "      <td>115883</td>\n",
       "      <td>1.0</td>\n",
       "      <td>1.0</td>\n",
       "      <td>D</td>\n",
       "      <td>4</td>\n",
       "      <td>1</td>\n",
       "      <td>334011.0</td>\n",
       "      <td>100.00</td>\n",
       "      <td>2006</td>\n",
       "      <td>20</td>\n",
       "      <td>133.93</td>\n",
       "      <td>83.15</td>\n",
       "    </tr>\n",
       "    <tr>\n",
       "      <th>4</th>\n",
       "      <td>7</td>\n",
       "      <td>Historical</td>\n",
       "      <td>863939</td>\n",
       "      <td>1.0</td>\n",
       "      <td>1.0</td>\n",
       "      <td>D</td>\n",
       "      <td>2</td>\n",
       "      <td>1</td>\n",
       "      <td>1287938.0</td>\n",
       "      <td>121.95</td>\n",
       "      <td>2010</td>\n",
       "      <td>28</td>\n",
       "      <td>4.00</td>\n",
       "      <td>23.99</td>\n",
       "    </tr>\n",
       "  </tbody>\n",
       "</table>\n",
       "</div>"
      ],
      "text/plain": [
       "   Order   File_Type  SKU_number  SoldFlag  SoldCount MarketingType  \\\n",
       "0      2  Historical     1737127       0.0        0.0             D   \n",
       "1      3  Historical     3255963       0.0        0.0             D   \n",
       "2      4  Historical      612701       0.0        0.0             D   \n",
       "3      6  Historical      115883       1.0        1.0             D   \n",
       "4      7  Historical      863939       1.0        1.0             D   \n",
       "\n",
       "   ReleaseNumber  New_Release_Flag  StrengthFactor  PriceReg  ReleaseYear  \\\n",
       "0             15                 1        682743.0     44.99         2015   \n",
       "1              7                 1       1016014.0     24.81         2005   \n",
       "2              0                 0        340464.0     46.00         2013   \n",
       "3              4                 1        334011.0    100.00         2006   \n",
       "4              2                 1       1287938.0    121.95         2010   \n",
       "\n",
       "   ItemCount  LowUserPrice  LowNetPrice  \n",
       "0          8         28.97        31.84  \n",
       "1         39          0.00        15.54  \n",
       "2         34         30.19        27.97  \n",
       "3         20        133.93        83.15  \n",
       "4         28          4.00        23.99  "
      ]
     },
     "execution_count": 2,
     "metadata": {},
     "output_type": "execute_result"
    }
   ],
   "source": [
    "# Read the data\n",
    "data = pd.read_csv('/kaggle/input/sales-analysis/SalesKaggle3.csv')\n",
    "data.head()"
   ]
  },
  {
   "cell_type": "code",
   "execution_count": 3,
   "id": "13ab4555",
   "metadata": {
    "execution": {
     "iopub.execute_input": "2023-06-06T11:57:58.571689Z",
     "iopub.status.busy": "2023-06-06T11:57:58.570611Z",
     "iopub.status.idle": "2023-06-06T11:57:58.613127Z",
     "shell.execute_reply": "2023-06-06T11:57:58.612068Z"
    },
    "papermill": {
     "duration": 0.051093,
     "end_time": "2023-06-06T11:57:58.615699",
     "exception": false,
     "start_time": "2023-06-06T11:57:58.564606",
     "status": "completed"
    },
    "tags": []
   },
   "outputs": [
    {
     "data": {
      "text/plain": [
       "Active        122921\n",
       "Historical     75996\n",
       "Name: File_Type, dtype: int64"
      ]
     },
     "execution_count": 3,
     "metadata": {},
     "output_type": "execute_result"
    }
   ],
   "source": [
    "data['File_Type'].value_counts()"
   ]
  },
  {
   "cell_type": "code",
   "execution_count": 4,
   "id": "600e096d",
   "metadata": {
    "execution": {
     "iopub.execute_input": "2023-06-06T11:57:58.627086Z",
     "iopub.status.busy": "2023-06-06T11:57:58.626692Z",
     "iopub.status.idle": "2023-06-06T11:57:58.633770Z",
     "shell.execute_reply": "2023-06-06T11:57:58.632486Z"
    },
    "papermill": {
     "duration": 0.015593,
     "end_time": "2023-06-06T11:57:58.636148",
     "exception": false,
     "start_time": "2023-06-06T11:57:58.620555",
     "status": "completed"
    },
    "tags": []
   },
   "outputs": [],
   "source": [
    "# Function Defination\n",
    "def ABC_segmentation(perc):\n",
    "    \"\"\"\n",
    "    Create the 3 classes A, B, C based on\n",
    "    quantity percentage (A-60%, B-25%, C-15%)\n",
    "    \"\"\"\n",
    "    if perc > 0 and perc <0.6 :\n",
    "        return 'A'\n",
    "    elif perc >=0.6 and perc <0.85:\n",
    "        return 'B'\n",
    "    elif perc >=0.85:\n",
    "        return 'C'"
   ]
  },
  {
   "cell_type": "code",
   "execution_count": 5,
   "id": "06a1e2e2",
   "metadata": {
    "execution": {
     "iopub.execute_input": "2023-06-06T11:57:58.648292Z",
     "iopub.status.busy": "2023-06-06T11:57:58.647493Z",
     "iopub.status.idle": "2023-06-06T11:57:58.707186Z",
     "shell.execute_reply": "2023-06-06T11:57:58.706086Z"
    },
    "papermill": {
     "duration": 0.068696,
     "end_time": "2023-06-06T11:57:58.709984",
     "exception": false,
     "start_time": "2023-06-06T11:57:58.641288",
     "status": "completed"
    },
    "tags": []
   },
   "outputs": [
    {
     "data": {
      "text/html": [
       "<div>\n",
       "<style scoped>\n",
       "    .dataframe tbody tr th:only-of-type {\n",
       "        vertical-align: middle;\n",
       "    }\n",
       "\n",
       "    .dataframe tbody tr th {\n",
       "        vertical-align: top;\n",
       "    }\n",
       "\n",
       "    .dataframe thead th {\n",
       "        text-align: right;\n",
       "    }\n",
       "</style>\n",
       "<table border=\"1\" class=\"dataframe\">\n",
       "  <thead>\n",
       "    <tr style=\"text-align: right;\">\n",
       "      <th></th>\n",
       "      <th>SKU_number</th>\n",
       "      <th>PriceReg</th>\n",
       "      <th>ItemCount</th>\n",
       "      <th>File_Type</th>\n",
       "    </tr>\n",
       "  </thead>\n",
       "  <tbody>\n",
       "    <tr>\n",
       "      <th>0</th>\n",
       "      <td>1737127</td>\n",
       "      <td>44.99</td>\n",
       "      <td>8</td>\n",
       "      <td>Historical</td>\n",
       "    </tr>\n",
       "    <tr>\n",
       "      <th>1</th>\n",
       "      <td>3255963</td>\n",
       "      <td>24.81</td>\n",
       "      <td>39</td>\n",
       "      <td>Historical</td>\n",
       "    </tr>\n",
       "    <tr>\n",
       "      <th>2</th>\n",
       "      <td>612701</td>\n",
       "      <td>46.00</td>\n",
       "      <td>34</td>\n",
       "      <td>Historical</td>\n",
       "    </tr>\n",
       "    <tr>\n",
       "      <th>3</th>\n",
       "      <td>115883</td>\n",
       "      <td>100.00</td>\n",
       "      <td>20</td>\n",
       "      <td>Historical</td>\n",
       "    </tr>\n",
       "    <tr>\n",
       "      <th>4</th>\n",
       "      <td>863939</td>\n",
       "      <td>121.95</td>\n",
       "      <td>28</td>\n",
       "      <td>Historical</td>\n",
       "    </tr>\n",
       "  </tbody>\n",
       "</table>\n",
       "</div>"
      ],
      "text/plain": [
       "   SKU_number  PriceReg  ItemCount   File_Type\n",
       "0     1737127     44.99          8  Historical\n",
       "1     3255963     24.81         39  Historical\n",
       "2      612701     46.00         34  Historical\n",
       "3      115883    100.00         20  Historical\n",
       "4      863939    121.95         28  Historical"
      ]
     },
     "execution_count": 5,
     "metadata": {},
     "output_type": "execute_result"
    }
   ],
   "source": [
    "# Take a subset of the data, we need to use the price & the quantity of each item\n",
    "data_sub = data[['SKU_number', 'PriceReg', 'ItemCount', 'File_Type']][(data['File_Type'] == 'Historical')]\n",
    "\n",
    "data_sub.head()"
   ]
  },
  {
   "cell_type": "code",
   "execution_count": 6,
   "id": "3a14bff3",
   "metadata": {
    "execution": {
     "iopub.execute_input": "2023-06-06T11:57:58.722471Z",
     "iopub.status.busy": "2023-06-06T11:57:58.721669Z",
     "iopub.status.idle": "2023-06-06T11:57:58.793313Z",
     "shell.execute_reply": "2023-06-06T11:57:58.792172Z"
    },
    "papermill": {
     "duration": 0.081114,
     "end_time": "2023-06-06T11:57:58.796384",
     "exception": false,
     "start_time": "2023-06-06T11:57:58.715270",
     "status": "completed"
    },
    "tags": []
   },
   "outputs": [],
   "source": [
    "# Create the column of the additive cost per SKU\n",
    "data_sub['AddCost'] = data_sub['PriceReg'] * data_sub['ItemCount']\n",
    "\n",
    "# Order By Cumulative Cost\n",
    "data_sub = data_sub.sort_values(by=['AddCost'], ascending= False)\n",
    "\n",
    "# Create the column of the running CumCost of the cumulative cost per SKU\n",
    "data_sub['RunCumCost'] = data_sub['AddCost'].cumsum()\n",
    "\n",
    "# Create the column of the total sum\n",
    "data_sub['TotSum'] = data_sub['AddCost'].sum()\n",
    "\n",
    "# Create the column of the running percentage\n",
    "data_sub['RunPerc'] = data_sub['RunCumCost']/data_sub['TotSum']\n",
    "\n",
    "# Create the column of the class\n",
    "data_sub['Class'] = data_sub['RunPerc'].apply(ABC_segmentation)"
   ]
  },
  {
   "cell_type": "code",
   "execution_count": 7,
   "id": "09c9e349",
   "metadata": {
    "execution": {
     "iopub.execute_input": "2023-06-06T11:57:58.808493Z",
     "iopub.status.busy": "2023-06-06T11:57:58.808080Z",
     "iopub.status.idle": "2023-06-06T11:57:58.825930Z",
     "shell.execute_reply": "2023-06-06T11:57:58.824838Z"
    },
    "papermill": {
     "duration": 0.02653,
     "end_time": "2023-06-06T11:57:58.828238",
     "exception": false,
     "start_time": "2023-06-06T11:57:58.801708",
     "status": "completed"
    },
    "tags": []
   },
   "outputs": [
    {
     "data": {
      "text/html": [
       "<div>\n",
       "<style scoped>\n",
       "    .dataframe tbody tr th:only-of-type {\n",
       "        vertical-align: middle;\n",
       "    }\n",
       "\n",
       "    .dataframe tbody tr th {\n",
       "        vertical-align: top;\n",
       "    }\n",
       "\n",
       "    .dataframe thead th {\n",
       "        text-align: right;\n",
       "    }\n",
       "</style>\n",
       "<table border=\"1\" class=\"dataframe\">\n",
       "  <thead>\n",
       "    <tr style=\"text-align: right;\">\n",
       "      <th></th>\n",
       "      <th>SKU_number</th>\n",
       "      <th>PriceReg</th>\n",
       "      <th>ItemCount</th>\n",
       "      <th>File_Type</th>\n",
       "      <th>AddCost</th>\n",
       "      <th>RunCumCost</th>\n",
       "      <th>TotSum</th>\n",
       "      <th>RunPerc</th>\n",
       "      <th>Class</th>\n",
       "    </tr>\n",
       "  </thead>\n",
       "  <tbody>\n",
       "    <tr>\n",
       "      <th>685</th>\n",
       "      <td>145889</td>\n",
       "      <td>244.6</td>\n",
       "      <td>851</td>\n",
       "      <td>Historical</td>\n",
       "      <td>208154.6</td>\n",
       "      <td>208154.6</td>\n",
       "      <td>3.426320e+08</td>\n",
       "      <td>0.000608</td>\n",
       "      <td>A</td>\n",
       "    </tr>\n",
       "    <tr>\n",
       "      <th>601</th>\n",
       "      <td>435034</td>\n",
       "      <td>281.8</td>\n",
       "      <td>616</td>\n",
       "      <td>Historical</td>\n",
       "      <td>173588.8</td>\n",
       "      <td>381743.4</td>\n",
       "      <td>3.426320e+08</td>\n",
       "      <td>0.001114</td>\n",
       "      <td>A</td>\n",
       "    </tr>\n",
       "    <tr>\n",
       "      <th>75056</th>\n",
       "      <td>538479</td>\n",
       "      <td>2645.3</td>\n",
       "      <td>49</td>\n",
       "      <td>Historical</td>\n",
       "      <td>129619.7</td>\n",
       "      <td>511363.1</td>\n",
       "      <td>3.426320e+08</td>\n",
       "      <td>0.001492</td>\n",
       "      <td>A</td>\n",
       "    </tr>\n",
       "    <tr>\n",
       "      <th>5752</th>\n",
       "      <td>212633</td>\n",
       "      <td>235.6</td>\n",
       "      <td>521</td>\n",
       "      <td>Historical</td>\n",
       "      <td>122747.6</td>\n",
       "      <td>634110.7</td>\n",
       "      <td>3.426320e+08</td>\n",
       "      <td>0.001851</td>\n",
       "      <td>A</td>\n",
       "    </tr>\n",
       "    <tr>\n",
       "      <th>3758</th>\n",
       "      <td>212480</td>\n",
       "      <td>208.8</td>\n",
       "      <td>579</td>\n",
       "      <td>Historical</td>\n",
       "      <td>120895.2</td>\n",
       "      <td>755005.9</td>\n",
       "      <td>3.426320e+08</td>\n",
       "      <td>0.002204</td>\n",
       "      <td>A</td>\n",
       "    </tr>\n",
       "  </tbody>\n",
       "</table>\n",
       "</div>"
      ],
      "text/plain": [
       "       SKU_number  PriceReg  ItemCount   File_Type   AddCost  RunCumCost  \\\n",
       "685        145889     244.6        851  Historical  208154.6    208154.6   \n",
       "601        435034     281.8        616  Historical  173588.8    381743.4   \n",
       "75056      538479    2645.3         49  Historical  129619.7    511363.1   \n",
       "5752       212633     235.6        521  Historical  122747.6    634110.7   \n",
       "3758       212480     208.8        579  Historical  120895.2    755005.9   \n",
       "\n",
       "             TotSum   RunPerc Class  \n",
       "685    3.426320e+08  0.000608     A  \n",
       "601    3.426320e+08  0.001114     A  \n",
       "75056  3.426320e+08  0.001492     A  \n",
       "5752   3.426320e+08  0.001851     A  \n",
       "3758   3.426320e+08  0.002204     A  "
      ]
     },
     "execution_count": 7,
     "metadata": {},
     "output_type": "execute_result"
    }
   ],
   "source": [
    "# Check the data\n",
    "data_sub.head()"
   ]
  },
  {
   "cell_type": "code",
   "execution_count": 8,
   "id": "240dad17",
   "metadata": {
    "execution": {
     "iopub.execute_input": "2023-06-06T11:57:58.841348Z",
     "iopub.status.busy": "2023-06-06T11:57:58.840912Z",
     "iopub.status.idle": "2023-06-06T11:57:58.859606Z",
     "shell.execute_reply": "2023-06-06T11:57:58.858603Z"
    },
    "papermill": {
     "duration": 0.027809,
     "end_time": "2023-06-06T11:57:58.861948",
     "exception": false,
     "start_time": "2023-06-06T11:57:58.834139",
     "status": "completed"
    },
    "tags": []
   },
   "outputs": [
    {
     "data": {
      "text/plain": [
       "C    37413\n",
       "B    22288\n",
       "A    16295\n",
       "Name: Class, dtype: int64"
      ]
     },
     "execution_count": 8,
     "metadata": {},
     "output_type": "execute_result"
    }
   ],
   "source": [
    "# Total SKUs for each class\n",
    "data_sub['Class'].value_counts()"
   ]
  },
  {
   "cell_type": "code",
   "execution_count": 9,
   "id": "b20dd373",
   "metadata": {
    "execution": {
     "iopub.execute_input": "2023-06-06T11:57:58.874614Z",
     "iopub.status.busy": "2023-06-06T11:57:58.874249Z",
     "iopub.status.idle": "2023-06-06T11:57:58.930928Z",
     "shell.execute_reply": "2023-06-06T11:57:58.929722Z"
    },
    "papermill": {
     "duration": 0.065956,
     "end_time": "2023-06-06T11:57:58.933488",
     "exception": false,
     "start_time": "2023-06-06T11:57:58.867532",
     "status": "completed"
    },
    "tags": []
   },
   "outputs": [
    {
     "name": "stdout",
     "output_type": "stream",
     "text": [
      "Cost of Class A: 205577451.4\n",
      "Cost of Class B: 85658215.25999999\n",
      "Cost of Class C: 51396361.129999995\n"
     ]
    }
   ],
   "source": [
    "# Total cost per class\n",
    "print('Cost of Class A:', data_sub[data_sub['Class']=='A']['AddCost'].sum())\n",
    "print('Cost of Class B:', data_sub[data_sub['Class']=='B']['AddCost'].sum())\n",
    "print('Cost of Class C:', data_sub[data_sub['Class']=='C']['AddCost'].sum())"
   ]
  },
  {
   "cell_type": "code",
   "execution_count": 10,
   "id": "6187821c",
   "metadata": {
    "execution": {
     "iopub.execute_input": "2023-06-06T11:57:58.946497Z",
     "iopub.status.busy": "2023-06-06T11:57:58.946133Z",
     "iopub.status.idle": "2023-06-06T11:57:59.001178Z",
     "shell.execute_reply": "2023-06-06T11:57:59.000015Z"
    },
    "papermill": {
     "duration": 0.064673,
     "end_time": "2023-06-06T11:57:59.003833",
     "exception": false,
     "start_time": "2023-06-06T11:57:58.939160",
     "status": "completed"
    },
    "tags": []
   },
   "outputs": [
    {
     "name": "stdout",
     "output_type": "stream",
     "text": [
      "Percentage of Cost of Class A: 0.5999948479013728\n",
      "Percentage of Cost of Class B: 0.2500006079773141\n",
      "Percentage of Cost of Class C: 0.15000454412131298\n"
     ]
    }
   ],
   "source": [
    "# Percentage of total cost per class\n",
    "print('Percentage of Cost of Class A:', data_sub[data_sub['Class']=='A']['AddCost'].sum()/data_sub['AddCost'].sum())\n",
    "print('Percentage of Cost of Class B:', data_sub[data_sub['Class']=='B']['AddCost'].sum()/data_sub['AddCost'].sum())\n",
    "print('Percentage of Cost of Class C:', data_sub[data_sub['Class']=='C']['AddCost'].sum()/data_sub['AddCost'].sum())"
   ]
  },
  {
   "cell_type": "code",
   "execution_count": null,
   "id": "202be199",
   "metadata": {
    "papermill": {
     "duration": 0.005344,
     "end_time": "2023-06-06T11:57:59.016475",
     "exception": false,
     "start_time": "2023-06-06T11:57:59.011131",
     "status": "completed"
    },
    "tags": []
   },
   "outputs": [],
   "source": []
  }
 ],
 "metadata": {
  "kernelspec": {
   "display_name": "Python 3",
   "language": "python",
   "name": "python3"
  },
  "language_info": {
   "codemirror_mode": {
    "name": "ipython",
    "version": 3
   },
   "file_extension": ".py",
   "mimetype": "text/x-python",
   "name": "python",
   "nbconvert_exporter": "python",
   "pygments_lexer": "ipython3",
   "version": "3.10.10"
  },
  "papermill": {
   "default_parameters": {},
   "duration": 17.141405,
   "end_time": "2023-06-06T11:58:00.044455",
   "environment_variables": {},
   "exception": null,
   "input_path": "__notebook__.ipynb",
   "output_path": "__notebook__.ipynb",
   "parameters": {},
   "start_time": "2023-06-06T11:57:42.903050",
   "version": "2.4.0"
  }
 },
 "nbformat": 4,
 "nbformat_minor": 5
}
